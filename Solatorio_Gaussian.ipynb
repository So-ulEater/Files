{
  "nbformat": 4,
  "nbformat_minor": 0,
  "metadata": {
    "colab": {
      "provenance": []
    },
    "kernelspec": {
      "name": "python3",
      "display_name": "Python 3"
    },
    "language_info": {
      "name": "python"
    }
  },
  "cells": [
    {
      "cell_type": "code",
      "execution_count": 1,
      "metadata": {
        "colab": {
          "base_uri": "https://localhost:8080/"
        },
        "id": "w9YxNiWGnYw-",
        "outputId": "56b76dd0-d5ac-4300-e8ed-b4eddfee42f8"
      },
      "outputs": [
        {
          "output_type": "stream",
          "name": "stdout",
          "text": [
            "Reduced matrix after Naive Gaussian elimination:\n",
            "[[ 4.    1.   -1.   -2.  ]\n",
            " [ 0.   -0.25  3.25  6.5 ]\n",
            " [ 0.    0.   -4.   -4.  ]]\n",
            "Solution vector:\n",
            "[ 3. -8.  6.]\n"
          ]
        }
      ],
      "source": [
        "import numpy as np\n",
        "\n",
        "# Function to execute Naive Gaussian elimination\n",
        "def naive_gaussian_elimination(A):\n",
        "    n = len(A)\n",
        "    # Forward elimination\n",
        "    for i in range(n):\n",
        "        for j in range(i + 1, n):\n",
        "            # Calculate the factor for elimination\n",
        "            factor = A[j][i] / A[i][i]\n",
        "            # Eliminate the variable from row j\n",
        "            A[j] -= factor * A[i]\n",
        "    return A\n",
        "\n",
        "# Coefficient matrix A1\n",
        "A1 = np.array([[4, 1, -1, -2],\n",
        "               [5, 1, 2, 4],\n",
        "               [6, 1, 1, 6]], dtype=float)\n",
        "\n",
        "# Apply Naive Gaussian elimination to transform the matrix\n",
        "reduced_A1 = naive_gaussian_elimination(A1.copy())\n",
        "\n",
        "# Carry out back substitution to solve for the variables\n",
        "n = A1.shape[0]\n",
        "x = np.zeros(n)\n",
        "for i in range(n - 1, -1, -1):\n",
        "   # Perform back substitution to solve for the current variable\n",
        "    x[i] = (A1[i][-1] - np.dot(A1[i][i + 1:n], x[i + 1:n])) / A1[i][i]\n",
        "\n",
        "# Display the reduced matrix and the solution vector\n",
        "print(\"Reduced matrix after Naive Gaussian elimination:\")\n",
        "print(reduced_A1)\n",
        "print(\"Solution vector:\")\n",
        "print(x)\n"
      ]
    },
    {
      "cell_type": "code",
      "source": [
        "# Function to execute Naive Gaussian elimination with chopping\n",
        "\n",
        "def naive_gauss_elimination_with_chopping(matrix):\n",
        "    n = len(matrix)\n",
        "\n",
        " # Perform forward elimination with chopping to 4 significant digits\n",
        "    for i in range(n):\n",
        "        for j in range(i + 1, n):\n",
        "            factor = np.round(matrix[j][i] / matrix[i][i], 4)  # Chopping to 4 significant digits\n",
        "            matrix[j] = matrix[j] - factor * matrix[i]\n",
        "\n",
        "    return matrix\n",
        "\n",
        "# Define the augmented matrix with coefficients and constants\n",
        "augmented_matrix = np.array([[4, 1, -1, -2],\n",
        "                             [5, 1, 2, 4],\n",
        "                             [6, 1, 1, 6]], dtype=float)\n",
        "\n",
        "# Execute Naive Gaussian elimination with chopping\n",
        "\n",
        "upper_triangular_matrix = naive_gauss_elimination_with_chopping(augmented_matrix.copy())\n",
        "\n",
        "# Execute back substitution to determine the solution vector\n",
        "\n",
        "\n",
        "n = len(augmented_matrix)\n",
        "solution_vector = np.zeros(n)\n",
        "for i in range(n - 1, -1, -1):\n",
        "    solution_vector[i] = (augmented_matrix[i][-1] - np.dot(augmented_matrix[i][i+1:n], solution_vector[i+1:n])) / augmented_matrix[i][i]\n",
        "\n",
        "# Display the reduced matrix and the corresponding solution\n",
        "print(\"Reduced upper triangular matrix after Naive Gauss elimination:\")\n",
        "print(upper_triangular_matrix)\n",
        "print(\"Solution vector:\")\n",
        "print(solution_vector)"
      ],
      "metadata": {
        "colab": {
          "base_uri": "https://localhost:8080/"
        },
        "id": "O-hOxP48neoj",
        "outputId": "ba9866b7-f725-40be-da12-517c118d428a"
      },
      "execution_count": 2,
      "outputs": [
        {
          "output_type": "stream",
          "name": "stdout",
          "text": [
            "Reduced upper triangular matrix after Naive Gauss elimination:\n",
            "[[ 4.    1.   -1.   -2.  ]\n",
            " [ 0.   -0.25  3.25  6.5 ]\n",
            " [ 0.    0.   -4.   -4.  ]]\n",
            "Solution vector:\n",
            "[ 3. -8.  6.]\n"
          ]
        }
      ]
    },
    {
      "cell_type": "code",
      "source": [
        "# Function to calculate the determinant via forward elimination\n",
        "\n",
        "def compute_determinant_with_forward_elimination(matrix):\n",
        "    n = len(matrix)\n",
        "\n",
        "    # Carry out forward elimination to transform the matrix into upper triangular form\n",
        "    for i in range(n):\n",
        "        for j in range(i + 1, n):\n",
        "            # Compute the elimination factor for row reduction\n",
        "            factor = matrix[j, i] / matrix[i, i]\n",
        "\n",
        "            # Subtract the factor multiplied by the current row from the rows below\n",
        "\n",
        "            matrix[j] -= factor * matrix[i]\n",
        "\n",
        "  # The determinant is the product of the diagonal elements of the upper triangular matrix\n",
        "\n",
        "    determinant = 1\n",
        "    for i in range(n):\n",
        "        determinant *= matrix[i, i]\n",
        "\n",
        "    return determinant\n",
        "\n",
        "# Define the coefficient matrix A3\n",
        "A3 = np.array([[10, -7, 0],\n",
        "               [-3, 2.099, 6],\n",
        "               [5, -1, 5]], dtype=float)\n",
        "\n",
        "# Calculate the determinant of A3 through forward elimination\n",
        "\n",
        "determinant_A3 = compute_determinant_with_forward_elimination(A3.copy())\n",
        "\n",
        "# Show the computed determinant\n",
        "determinant_A3"
      ],
      "metadata": {
        "colab": {
          "base_uri": "https://localhost:8080/"
        },
        "id": "-8k0Ax6Jnh_p",
        "outputId": "c1567d0b-c057-47b2-f3f5-f3b74ae867d5"
      },
      "execution_count": 3,
      "outputs": [
        {
          "output_type": "execute_result",
          "data": {
            "text/plain": [
              "-150.04999999999998"
            ]
          },
          "metadata": {},
          "execution_count": 3
        }
      ]
    },
    {
      "cell_type": "code",
      "source": [
        "# The reduced triangular matrix A4 after performing forward elimination\n",
        "\n",
        "A4_reduced = np.array([[25, 5, 1],\n",
        "                       [0, -4.8, -1.56],\n",
        "                       [0, 0, 0.7]], dtype=float)\n",
        "\n",
        "# Function to calculate the determinant of a triangular matrix\n",
        "def compute_determinant_triangular(matrix):\n",
        "    determinant = 1\n",
        "    # Multiply the diagonal elements to find the determinant\n",
        "    for i in range(len(matrix)):\n",
        "        determinant *= matrix[i][i]\n",
        "    return determinant\n",
        "\n",
        "# Compute the determinant of the reduced matrix A4\n",
        "determinant_A4 = compute_determinant_triangular(A4_reduced)\n",
        "\n",
        "# Output the determinant\n",
        "determinant_A4"
      ],
      "metadata": {
        "colab": {
          "base_uri": "https://localhost:8080/"
        },
        "id": "XWwqoxu6ni8t",
        "outputId": "3659e123-1120-43cf-814e-96c5c712511a"
      },
      "execution_count": 4,
      "outputs": [
        {
          "output_type": "execute_result",
          "data": {
            "text/plain": [
              "-84.0"
            ]
          },
          "metadata": {},
          "execution_count": 4
        }
      ]
    },
    {
      "cell_type": "code",
      "source": [
        "def gaussian_elimination_with_partial_pivoting(A):\n",
        "    n = len(A)  # Retrieve the number of rows\n",
        "   # Perform forward elimination with partial pivoting\n",
        "    for i in range(n):\n",
        "        # Identify the row with the largest absolute value in column i for pivoting\n",
        "        max_row_index = np.argmax(np.abs(A[i:n, i])) + i\n",
        "        # Swap the current row with the row containing the maximum pivot element\n",
        "        A[[i, max_row_index]] = A[[max_row_index, i]]\n",
        "\n",
        "       # Eliminate the entries below the pivot in column i\n",
        "\n",
        "        for j in range(i + 1, n):\n",
        "            factor = A[j, i] / A[i, i]\n",
        "            A[j] = A[j] - factor * A[i]\n",
        "\n",
        "    return A\n",
        "\n",
        "def back_substitution(A):\n",
        "    n = len(A)\n",
        "    x = np.zeros(n)\n",
        "\n",
        "   # Begin with the last row and work upwards to perform back substitution\n",
        "\n",
        "    for i in range(n-1, -1, -1):\n",
        "        x[i] = (A[i, -1] - np.dot(A[i, i+1:n], x[i+1:n])) / A[i, i]\n",
        "\n",
        "    return x\n",
        "\n",
        "# Example augmented matrix (4x4 matrix with the right-hand side in the last column)\n",
        "A5 = np.array([[4, 1, -1, -2],\n",
        "               [5, 1, 2, 4],\n",
        "               [6, 1, 1, 6]], dtype=float)\n",
        "\n",
        "# Apply Gaussian elimination with partial pivoting\n",
        "reduced_A5 = gaussian_elimination_with_partial_pivoting(A5.copy())\n",
        "\n",
        "# Solve the system by performing back substitution\n",
        "solution = back_substitution(reduced_A5)\n",
        "\n",
        "# Display the reduced matrix and the solution\n",
        "print(\"Reduced matrix after Gaussian elimination with partial pivoting:\")\n",
        "print(reduced_A5)\n",
        "print(\"Solution vector:\")\n",
        "print(solution)"
      ],
      "metadata": {
        "colab": {
          "base_uri": "https://localhost:8080/"
        },
        "id": "gFbc07eSnlSd",
        "outputId": "0d91443d-0b46-44a0-d372-72cb99dba406"
      },
      "execution_count": 5,
      "outputs": [
        {
          "output_type": "stream",
          "name": "stdout",
          "text": [
            "Reduced matrix after Gaussian elimination with partial pivoting:\n",
            "[[ 6.          1.          1.          6.        ]\n",
            " [ 0.          0.33333333 -1.66666667 -6.        ]\n",
            " [ 0.          0.          2.          2.        ]]\n",
            "Solution vector:\n",
            "[  3. -13.   1.]\n"
          ]
        }
      ]
    },
    {
      "cell_type": "code",
      "source": [
        "# Function to perform Gaussian elimination with partial pivoting and rounding to four significant digits\n",
        "def gaussian_elimination_with_pivoting_chopping(A):\n",
        "    n = len(A)\n",
        "\n",
        "    # Perform forward elimination with partial pivoting\n",
        "    for i in range(n):\n",
        "        # Find the row with the largest absolute value in column i for pivoting\n",
        "        max_row_index = np.argmax(np.abs(A[i:n, i])) + i\n",
        "        A[[i, max_row_index]] = A[[max_row_index, i]]  # Swap the rows\n",
        "\n",
        "        # Eliminate elements below the pivot\n",
        "        for j in range(i + 1, n):\n",
        "            # Compute the factor to eliminate the variable and chop to four significant digits\n",
        "            factor = np.round(A[j][i] / A[i][i], 4)\n",
        "            A[j] -= factor * A[i]  # Update row j\n",
        "    return A\n",
        "\n",
        "# Matrix of coefficients for the system of equations\n",
        "A = np.array([[4 , 1 , -1 , -2],\n",
        "              [5 , 1 , 2 , 4],\n",
        "              [6 , 1 , 1 , 6]], dtype=float)\n",
        "\n",
        "# Execute Gaussian elimination with partial pivoting and rounding to four significant digits\n",
        "reduced_matrix = gaussian_elimination_with_pivoting_chopping(A.copy())\n",
        "\n",
        "# Perform back substitution to compute the values of the variables\n",
        "\n",
        "n = len(A)\n",
        "solution = np.zeros(n)\n",
        "for i in range(n-1, -1, -1):\n",
        "    solution[i] = (reduced_matrix[i][-1] - np.dot(reduced_matrix[i][i+1:n], solution[i+1:n])) / reduced_matrix[i][i]\n",
        "\n",
        "# Display the reduced matrix and the solution vector\n",
        "print(\"Reduced matrix after Gaussian elimination with partial pivoting:\")\n",
        "print(reduced_matrix)\n",
        "print(\"Solution vector:\")\n",
        "print(solution)\n"
      ],
      "metadata": {
        "colab": {
          "base_uri": "https://localhost:8080/"
        },
        "id": "hvaYdik0np6f",
        "outputId": "cddd1c3a-daab-4c2c-9c07-53e46d48809f"
      },
      "execution_count": 6,
      "outputs": [
        {
          "output_type": "stream",
          "name": "stdout",
          "text": [
            "Reduced matrix after Gaussian elimination with partial pivoting:\n",
            "[[ 6.00000000e+00  1.00000000e+00  1.00000000e+00  6.00000000e+00]\n",
            " [-2.00000000e-04  3.33300000e-01 -1.66670000e+00 -6.00020000e+00]\n",
            " [ 3.00040000e-04 -1.66600000e-05  2.00038334e+00  2.00150004e+00]]\n",
            "Solution vector:\n",
            "[  2.99974173 -12.99900863   1.00055824]\n"
          ]
        }
      ]
    }
  ]
}